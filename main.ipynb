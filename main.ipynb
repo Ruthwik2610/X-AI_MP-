{
 "cells": [
  {
   "cell_type": "code",
   "execution_count": null,
   "id": "5c60ea8c",
   "metadata": {},
   "outputs": [],
   "source": [
    "#Installing and checking requiered packages\n",
    "\n",
    "# !pip show rdflib pandas numpy scikit-learn shap lime matplotlib ipykernel\n",
    "# !pip install rdflib shap lime\n"
   ]
  },
  {
   "cell_type": "code",
   "execution_count": 2,
   "id": "346924a0",
   "metadata": {},
   "outputs": [],
   "source": [
    "#imports\n",
    "import gzip\n",
    "from rdflib import Graph\n",
    "import pandas as pd\n",
    "import os\n",
    "from tqdm import tqdm"
   ]
  },
  {
   "cell_type": "code",
   "execution_count": null,
   "id": "c8cb8d7b",
   "metadata": {},
   "outputs": [],
   "source": [
    "\n",
    "g = Graph()\n",
    "for i in range(10):  \n",
    "    file = f\"X-AI_MP-/data/am_stripped0{i}.nt\"\n",
    "    g.parse(file, format=\"nt\")\n"
   ]
  },
  {
   "cell_type": "code",
   "execution_count": 1,
   "id": "bfcadd45",
   "metadata": {},
   "outputs": [
    {
     "ename": "NameError",
     "evalue": "name 'g' is not defined",
     "output_type": "error",
     "traceback": [
      "\u001b[1;31m---------------------------------------------------------------------------\u001b[0m",
      "\u001b[1;31mNameError\u001b[0m                                 Traceback (most recent call last)",
      "Cell \u001b[1;32mIn[1], line 1\u001b[0m\n\u001b[1;32m----> 1\u001b[0m \u001b[38;5;28;01mfor\u001b[39;00m s, g, p \u001b[38;5;129;01min\u001b[39;00m \u001b[43mg\u001b[49m:\n\u001b[0;32m      2\u001b[0m     \u001b[38;5;28mprint\u001b[39m(\u001b[38;5;124mf\u001b[39m\u001b[38;5;124m\"\u001b[39m\u001b[38;5;124mS: \u001b[39m\u001b[38;5;132;01m{\u001b[39;00ms\u001b[38;5;132;01m}\u001b[39;00m\u001b[38;5;124m, G: \u001b[39m\u001b[38;5;132;01m{\u001b[39;00mg\u001b[38;5;132;01m}\u001b[39;00m\u001b[38;5;124m, P: \u001b[39m\u001b[38;5;132;01m{\u001b[39;00mp\u001b[38;5;132;01m}\u001b[39;00m\u001b[38;5;124m\"\u001b[39m)\n",
      "\u001b[1;31mNameError\u001b[0m: name 'g' is not defined"
     ]
    }
   ],
   "source": [
    "for s, g, p in g:\n",
    "    print(f\"S: {s}, G: {g}, P: {p}\")"
   ]
  },
  {
   "cell_type": "code",
   "execution_count": null,
   "id": "42651767",
   "metadata": {},
   "outputs": [
    {
     "name": "stdout",
     "output_type": "stream",
     "text": [
      "✅ Sample converted entity URIs:\n",
      "                                                                              entity  \\\n",
      "http://purl.org/collections/nl/am/proxy-69550  http://purl.org/collections/nl/am/e-1   \n",
      "http://purl.org/collections/nl/am/proxy-6266   http://purl.org/collections/nl/am/e-2   \n",
      "http://purl.org/collections/nl/am/proxy-47358  http://purl.org/collections/nl/am/e-3   \n",
      "http://purl.org/collections/nl/am/proxy-24708  http://purl.org/collections/nl/am/e-5   \n",
      "http://purl.org/collections/nl/am/proxy-54032  http://purl.org/collections/nl/am/e-7   \n",
      "\n",
      "                                                                                   label  \n",
      "http://purl.org/collections/nl/am/proxy-69550  http://purl.org/collections/nl/am/t-22503  \n",
      "http://purl.org/collections/nl/am/proxy-6266   http://purl.org/collections/nl/am/t-15459  \n",
      "http://purl.org/collections/nl/am/proxy-47358  http://purl.org/collections/nl/am/t-22503  \n",
      "http://purl.org/collections/nl/am/proxy-24708  http://purl.org/collections/nl/am/t-15579  \n",
      "http://purl.org/collections/nl/am/proxy-54032  http://purl.org/collections/nl/am/t-22503  \n"
     ]
    }
   ],
   "source": [
    "\n",
    "\n",
    "import pandas as pd\n",
    "\n",
    "\n",
    "train_entities = pd.read_csv('X-AI_MP-/data/trainingSet.tsv', sep='\\t', names=['entity', 'label'], skiprows=1)\n",
    "test_entities = pd.read_csv('X-AI_MP-/data/testSet.tsv', sep='\\t', names=['entity', 'label'], skiprows=1)\n",
    "\n",
    "# Convert numeric entity IDs into RDF-style URIs\n",
    "def id_to_uri(x):\n",
    "    x = int(float(x))  \n",
    "    return f\"http://purl.org/collections/nl/am/e-{x}\"\n",
    "\n",
    "train_entities['entity'] = train_entities['entity'].apply(id_to_uri)\n",
    "test_entities['entity'] = test_entities['entity'].apply(id_to_uri)\n",
    "all_entities = pd.concat([train_entities, test_entities], ignore_index=True)\n",
    "\n",
    "# Check sample\n",
    "print(\"✅ Sample converted entity URIs:\")\n",
    "print(train_entities.head())\n"
   ]
  },
  {
   "cell_type": "code",
   "execution_count": null,
   "id": "5455371e",
   "metadata": {},
   "outputs": [],
   "source": []
  },
  {
   "cell_type": "code",
   "execution_count": 38,
   "id": "3b4ee4d0",
   "metadata": {},
   "outputs": [
    {
     "name": "stdout",
     "output_type": "stream",
     "text": [
      "                                      entity  \\\n",
      "0      http://purl.org/collections/nl/am/e-1   \n",
      "1      http://purl.org/collections/nl/am/e-2   \n",
      "2      http://purl.org/collections/nl/am/e-3   \n",
      "3      http://purl.org/collections/nl/am/e-5   \n",
      "4      http://purl.org/collections/nl/am/e-7   \n",
      "..                                       ...   \n",
      "995  http://purl.org/collections/nl/am/e-989   \n",
      "996  http://purl.org/collections/nl/am/e-991   \n",
      "997  http://purl.org/collections/nl/am/e-992   \n",
      "998  http://purl.org/collections/nl/am/e-995   \n",
      "999  http://purl.org/collections/nl/am/e-998   \n",
      "\n",
      "                                         label  \n",
      "0    http://purl.org/collections/nl/am/t-22503  \n",
      "1    http://purl.org/collections/nl/am/t-15459  \n",
      "2    http://purl.org/collections/nl/am/t-22503  \n",
      "3    http://purl.org/collections/nl/am/t-15579  \n",
      "4    http://purl.org/collections/nl/am/t-22503  \n",
      "..                                         ...  \n",
      "995  http://purl.org/collections/nl/am/t-22503  \n",
      "996  http://purl.org/collections/nl/am/t-15579  \n",
      "997  http://purl.org/collections/nl/am/t-15579  \n",
      "998   http://purl.org/collections/nl/am/t-5504  \n",
      "999   http://purl.org/collections/nl/am/t-5504  \n",
      "\n",
      "[1000 rows x 2 columns]\n"
     ]
    }
   ],
   "source": [
    "print(all_entities)"
   ]
  },
  {
   "cell_type": "code",
   "execution_count": 64,
   "id": "08c6aeb3",
   "metadata": {},
   "outputs": [],
   "source": [
    "# from collections import defaultdict\n",
    "# import pandas as pd\n",
    "\n",
    "# # Create a dict of dicts: entity ➜ predicate ➜ count\n",
    "# entity_features = defaultdict(lambda: defaultdict(int))\n",
    "\n",
    "# for s, p, o in g:\n",
    "#     subject = str(s)\n",
    "#     predicate = str(p)\n",
    "#     if subject in all_entities['entity'].values:\n",
    "#         entity_features[subject][predicate] += 1\n",
    "        \n",
    "from collections import defaultdict\n",
    "\n",
    "target_uris = set(all_entities['entity'])\n",
    "\n",
    "entity_features = defaultdict(lambda: defaultdict(int))\n",
    "\n",
    "for s, p, o in g:\n",
    "    o = str(o)\n",
    "    if o in target_uris:\n",
    "        p_short = str(p).split('#')[-1].split('/')[-1]  # Simplify predicate\n",
    "        entity_features[o][p_short] = 1  # Use object as the target entity\n"
   ]
  },
  {
   "cell_type": "code",
   "execution_count": 66,
   "id": "be4f3f6a",
   "metadata": {},
   "outputs": [],
   "source": [
    "# Convert to tabular format\n",
    "# feature_df = pd.DataFrame.from_dict(entity_features, orient='index').fillna(0)\n",
    "# feature_df.index.name = 'entity'\n",
    "# feature_df.reset_index(inplace=True)\n",
    "\n",
    "feature_df = pd.DataFrame.from_dict(entity_features, orient='index').fillna(0)\n",
    "feature_df.index.name = 'entity'\n",
    "feature_df.reset_index(inplace=True)\n",
    "\n",
    "train_df = train_entities.merge(feature_df, on='entity', how='left').fillna(0)\n",
    "test_df = test_entities.merge(feature_df, on='entity', how='left').fillna(0)\n",
    "\n"
   ]
  },
  {
   "cell_type": "code",
   "execution_count": 67,
   "id": "eb5de33e",
   "metadata": {},
   "outputs": [
    {
     "name": "stdout",
     "output_type": "stream",
     "text": [
      "New feature_df shape: (0, 1)\n"
     ]
    }
   ],
   "source": [
    "print(\"New feature_df shape:\", feature_df.shape)\n"
   ]
  },
  {
   "cell_type": "code",
   "execution_count": 53,
   "id": "93374582",
   "metadata": {},
   "outputs": [],
   "source": [
    "train_df = train_entities.merge(feature_df, on='entity', how='left').fillna(0)\n",
    "test_df = test_entities.merge(feature_df, on='entity', how='left').fillna(0)\n"
   ]
  },
  {
   "cell_type": "code",
   "execution_count": 54,
   "id": "3541b44e",
   "metadata": {},
   "outputs": [
    {
     "data": {
      "text/html": [
       "<div>\n",
       "<style scoped>\n",
       "    .dataframe tbody tr th:only-of-type {\n",
       "        vertical-align: middle;\n",
       "    }\n",
       "\n",
       "    .dataframe tbody tr th {\n",
       "        vertical-align: top;\n",
       "    }\n",
       "\n",
       "    .dataframe thead th {\n",
       "        text-align: right;\n",
       "    }\n",
       "</style>\n",
       "<table border=\"1\" class=\"dataframe\">\n",
       "  <thead>\n",
       "    <tr style=\"text-align: right;\">\n",
       "      <th></th>\n",
       "      <th>entity</th>\n",
       "      <th>label</th>\n",
       "    </tr>\n",
       "  </thead>\n",
       "  <tbody>\n",
       "    <tr>\n",
       "      <th>0</th>\n",
       "      <td>http://purl.org/collections/nl/am/e-1</td>\n",
       "      <td>http://purl.org/collections/nl/am/t-22503</td>\n",
       "    </tr>\n",
       "    <tr>\n",
       "      <th>1</th>\n",
       "      <td>http://purl.org/collections/nl/am/e-2</td>\n",
       "      <td>http://purl.org/collections/nl/am/t-15459</td>\n",
       "    </tr>\n",
       "    <tr>\n",
       "      <th>2</th>\n",
       "      <td>http://purl.org/collections/nl/am/e-3</td>\n",
       "      <td>http://purl.org/collections/nl/am/t-22503</td>\n",
       "    </tr>\n",
       "  </tbody>\n",
       "</table>\n",
       "</div>"
      ],
      "text/plain": [
       "                                  entity  \\\n",
       "0  http://purl.org/collections/nl/am/e-1   \n",
       "1  http://purl.org/collections/nl/am/e-2   \n",
       "2  http://purl.org/collections/nl/am/e-3   \n",
       "\n",
       "                                       label  \n",
       "0  http://purl.org/collections/nl/am/t-22503  \n",
       "1  http://purl.org/collections/nl/am/t-15459  \n",
       "2  http://purl.org/collections/nl/am/t-22503  "
      ]
     },
     "execution_count": 54,
     "metadata": {},
     "output_type": "execute_result"
    }
   ],
   "source": [
    "train_df.head(3)"
   ]
  },
  {
   "cell_type": "code",
   "execution_count": 55,
   "id": "4ff6f3af",
   "metadata": {},
   "outputs": [],
   "source": [
    "X_train = train_df.drop(columns=['entity', 'label'])\n",
    "y_train = train_df['label']\n",
    "\n",
    "X_test = test_df.drop(columns=['entity', 'label'])\n",
    "y_test = test_df['label']"
   ]
  },
  {
   "cell_type": "code",
   "execution_count": 60,
   "id": "5ac15c0c",
   "metadata": {},
   "outputs": [
    {
     "name": "stdout",
     "output_type": "stream",
     "text": [
      "feature_df shape: (0, 1)\n",
      "feature_df.head():\n",
      " Empty DataFrame\n",
      "Columns: [entity]\n",
      "Index: []\n",
      "Sample feature_df entity: []\n",
      "Sample train_entities entity: ['http://purl.org/collections/nl/am/e-1', 'http://purl.org/collections/nl/am/e-2', 'http://purl.org/collections/nl/am/e-3', 'http://purl.org/collections/nl/am/e-5', 'http://purl.org/collections/nl/am/e-7']\n"
     ]
    }
   ],
   "source": [
    "print(\"feature_df shape:\", feature_df.shape)\n",
    "print(\"feature_df.head():\\n\", feature_df.head())\n",
    "\n",
    "\n",
    "print(\"Sample feature_df entity:\", feature_df['entity'].head().tolist())\n",
    "print(\"Sample train_entities entity:\", train_entities['entity'].head().tolist())\n"
   ]
  },
  {
   "cell_type": "code",
   "execution_count": 61,
   "id": "af5245b0",
   "metadata": {},
   "outputs": [
    {
     "name": "stdout",
     "output_type": "stream",
     "text": [
      "🔍 Sample RDF subjects:\n",
      "N77cf5480e1304c17b5c83ccea7a2708c\n",
      "Nee0a2ad9078948bdb17d905dcb675951\n",
      "Nb0b7263c17934dafa72b1debafb40247\n",
      "N33f4013f15be4397aac3c36a0eedafb0\n",
      "N352907f6f32d417a876bef5b0f0dea51\n",
      "http://purl.org/collections/nl/am/p-32894\n",
      "N1d0aa056769741cd8a208480746c2503\n",
      "N58ccc0dc304f46a9ae5ef2f5adc80d28\n",
      "N5b6b4f1d105d49c99a5e0434432d512a\n",
      "N1a722da38e2340d0995d07e83791a91d\n"
     ]
    }
   ],
   "source": [
    "from itertools import islice\n",
    "\n",
    "# Print 10 unique RDF subjects\n",
    "print(\"🔍 Sample RDF subjects:\")\n",
    "for s in islice(set(str(triple[0]) for triple in g), 10):\n",
    "    print(s)\n"
   ]
  },
  {
   "cell_type": "code",
   "execution_count": 62,
   "id": "c67b0ffc",
   "metadata": {},
   "outputs": [
    {
     "name": "stdout",
     "output_type": "stream",
     "text": [
      "✅ Matching entities in RDF: 0 / 802\n"
     ]
    }
   ],
   "source": [
    "rdf_subjects = {str(s) for s, _, _ in g}\n",
    "train_subjects = set(train_entities['entity'])\n",
    "\n",
    "matched = rdf_subjects & train_subjects\n",
    "print(f\"✅ Matching entities in RDF: {len(matched)} / {len(train_subjects)}\")\n"
   ]
  },
  {
   "cell_type": "code",
   "execution_count": 63,
   "id": "ce55d99d",
   "metadata": {},
   "outputs": [],
   "source": [
    "# Try partial matching to test if RDF URIs have extra characters\n",
    "for s, p, o in g:\n",
    "    s_str = str(s)\n",
    "    if any(e in s_str for e in train_subjects):\n",
    "        print(\"🔎 Possible fuzzy match found:\", s_str)\n",
    "        break\n"
   ]
  },
  {
   "cell_type": "code",
   "execution_count": null,
   "id": "6e69623e",
   "metadata": {},
   "outputs": [],
   "source": []
  },
  {
   "cell_type": "code",
   "execution_count": null,
   "id": "bfcc9657",
   "metadata": {},
   "outputs": [],
   "source": []
  },
  {
   "cell_type": "code",
   "execution_count": null,
   "id": "5c5740ca",
   "metadata": {},
   "outputs": [],
   "source": []
  },
  {
   "cell_type": "code",
   "execution_count": null,
   "id": "aefa48fd",
   "metadata": {},
   "outputs": [],
   "source": []
  },
  {
   "cell_type": "code",
   "execution_count": 51,
   "id": "e616c2f7",
   "metadata": {},
   "outputs": [],
   "source": [
    "from sklearn.preprocessing import LabelEncoder\n",
    "\n",
    "encoder = LabelEncoder()\n",
    "y_train_encoded = encoder.fit_transform(y_train)\n",
    "y_test_encoded = encoder.transform(y_test)\n"
   ]
  },
  {
   "cell_type": "code",
   "execution_count": 52,
   "id": "5bd67178",
   "metadata": {},
   "outputs": [
    {
     "ename": "ValueError",
     "evalue": "at least one array or dtype is required",
     "output_type": "error",
     "traceback": [
      "\u001b[1;31m---------------------------------------------------------------------------\u001b[0m",
      "\u001b[1;31mValueError\u001b[0m                                Traceback (most recent call last)",
      "Cell \u001b[1;32mIn[52], line 4\u001b[0m\n\u001b[0;32m      1\u001b[0m \u001b[38;5;28;01mfrom\u001b[39;00m \u001b[38;5;21;01msklearn\u001b[39;00m\u001b[38;5;21;01m.\u001b[39;00m\u001b[38;5;21;01mensemble\u001b[39;00m \u001b[38;5;28;01mimport\u001b[39;00m GradientBoostingClassifier\n\u001b[0;32m      3\u001b[0m model \u001b[38;5;241m=\u001b[39m GradientBoostingClassifier(n_estimators\u001b[38;5;241m=\u001b[39m\u001b[38;5;241m1000\u001b[39m, random_state\u001b[38;5;241m=\u001b[39m\u001b[38;5;241m0\u001b[39m)\n\u001b[1;32m----> 4\u001b[0m \u001b[43mmodel\u001b[49m\u001b[38;5;241;43m.\u001b[39;49m\u001b[43mfit\u001b[49m\u001b[43m(\u001b[49m\u001b[43mX_train\u001b[49m\u001b[43m,\u001b[49m\u001b[43m \u001b[49m\u001b[43my_train_encoded\u001b[49m\u001b[43m)\u001b[49m\n",
      "File \u001b[1;32mc:\\Users\\viraj\\AppData\\Local\\Programs\\Python\\Python39\\lib\\site-packages\\sklearn\\base.py:1351\u001b[0m, in \u001b[0;36m_fit_context.<locals>.decorator.<locals>.wrapper\u001b[1;34m(estimator, *args, **kwargs)\u001b[0m\n\u001b[0;32m   1344\u001b[0m     estimator\u001b[38;5;241m.\u001b[39m_validate_params()\n\u001b[0;32m   1346\u001b[0m \u001b[38;5;28;01mwith\u001b[39;00m config_context(\n\u001b[0;32m   1347\u001b[0m     skip_parameter_validation\u001b[38;5;241m=\u001b[39m(\n\u001b[0;32m   1348\u001b[0m         prefer_skip_nested_validation \u001b[38;5;129;01mor\u001b[39;00m global_skip_validation\n\u001b[0;32m   1349\u001b[0m     )\n\u001b[0;32m   1350\u001b[0m ):\n\u001b[1;32m-> 1351\u001b[0m     \u001b[38;5;28;01mreturn\u001b[39;00m fit_method(estimator, \u001b[38;5;241m*\u001b[39margs, \u001b[38;5;241m*\u001b[39m\u001b[38;5;241m*\u001b[39mkwargs)\n",
      "File \u001b[1;32mc:\\Users\\viraj\\AppData\\Local\\Programs\\Python\\Python39\\lib\\site-packages\\sklearn\\ensemble\\_gb.py:659\u001b[0m, in \u001b[0;36mBaseGradientBoosting.fit\u001b[1;34m(self, X, y, sample_weight, monitor)\u001b[0m\n\u001b[0;32m    653\u001b[0m     \u001b[38;5;28mself\u001b[39m\u001b[38;5;241m.\u001b[39m_clear_state()\n\u001b[0;32m    655\u001b[0m \u001b[38;5;66;03m# Check input\u001b[39;00m\n\u001b[0;32m    656\u001b[0m \u001b[38;5;66;03m# Since check_array converts both X and y to the same dtype, but the\u001b[39;00m\n\u001b[0;32m    657\u001b[0m \u001b[38;5;66;03m# trees use different types for X and y, checking them separately.\u001b[39;00m\n\u001b[1;32m--> 659\u001b[0m X, y \u001b[38;5;241m=\u001b[39m \u001b[38;5;28;43mself\u001b[39;49m\u001b[38;5;241;43m.\u001b[39;49m\u001b[43m_validate_data\u001b[49m\u001b[43m(\u001b[49m\n\u001b[0;32m    660\u001b[0m \u001b[43m    \u001b[49m\u001b[43mX\u001b[49m\u001b[43m,\u001b[49m\u001b[43m \u001b[49m\u001b[43my\u001b[49m\u001b[43m,\u001b[49m\u001b[43m \u001b[49m\u001b[43maccept_sparse\u001b[49m\u001b[38;5;241;43m=\u001b[39;49m\u001b[43m[\u001b[49m\u001b[38;5;124;43m\"\u001b[39;49m\u001b[38;5;124;43mcsr\u001b[39;49m\u001b[38;5;124;43m\"\u001b[39;49m\u001b[43m,\u001b[49m\u001b[43m \u001b[49m\u001b[38;5;124;43m\"\u001b[39;49m\u001b[38;5;124;43mcsc\u001b[39;49m\u001b[38;5;124;43m\"\u001b[39;49m\u001b[43m,\u001b[49m\u001b[43m \u001b[49m\u001b[38;5;124;43m\"\u001b[39;49m\u001b[38;5;124;43mcoo\u001b[39;49m\u001b[38;5;124;43m\"\u001b[39;49m\u001b[43m]\u001b[49m\u001b[43m,\u001b[49m\u001b[43m \u001b[49m\u001b[43mdtype\u001b[49m\u001b[38;5;241;43m=\u001b[39;49m\u001b[43mDTYPE\u001b[49m\u001b[43m,\u001b[49m\u001b[43m \u001b[49m\u001b[43mmulti_output\u001b[49m\u001b[38;5;241;43m=\u001b[39;49m\u001b[38;5;28;43;01mTrue\u001b[39;49;00m\n\u001b[0;32m    661\u001b[0m \u001b[43m\u001b[49m\u001b[43m)\u001b[49m\n\u001b[0;32m    662\u001b[0m sample_weight_is_none \u001b[38;5;241m=\u001b[39m sample_weight \u001b[38;5;129;01mis\u001b[39;00m \u001b[38;5;28;01mNone\u001b[39;00m\n\u001b[0;32m    663\u001b[0m sample_weight \u001b[38;5;241m=\u001b[39m _check_sample_weight(sample_weight, X)\n",
      "File \u001b[1;32mc:\\Users\\viraj\\AppData\\Local\\Programs\\Python\\Python39\\lib\\site-packages\\sklearn\\base.py:650\u001b[0m, in \u001b[0;36mBaseEstimator._validate_data\u001b[1;34m(self, X, y, reset, validate_separately, cast_to_ndarray, **check_params)\u001b[0m\n\u001b[0;32m    648\u001b[0m         y \u001b[38;5;241m=\u001b[39m check_array(y, input_name\u001b[38;5;241m=\u001b[39m\u001b[38;5;124m\"\u001b[39m\u001b[38;5;124my\u001b[39m\u001b[38;5;124m\"\u001b[39m, \u001b[38;5;241m*\u001b[39m\u001b[38;5;241m*\u001b[39mcheck_y_params)\n\u001b[0;32m    649\u001b[0m     \u001b[38;5;28;01melse\u001b[39;00m:\n\u001b[1;32m--> 650\u001b[0m         X, y \u001b[38;5;241m=\u001b[39m check_X_y(X, y, \u001b[38;5;241m*\u001b[39m\u001b[38;5;241m*\u001b[39mcheck_params)\n\u001b[0;32m    651\u001b[0m     out \u001b[38;5;241m=\u001b[39m X, y\n\u001b[0;32m    653\u001b[0m \u001b[38;5;28;01mif\u001b[39;00m \u001b[38;5;129;01mnot\u001b[39;00m no_val_X \u001b[38;5;129;01mand\u001b[39;00m check_params\u001b[38;5;241m.\u001b[39mget(\u001b[38;5;124m\"\u001b[39m\u001b[38;5;124mensure_2d\u001b[39m\u001b[38;5;124m\"\u001b[39m, \u001b[38;5;28;01mTrue\u001b[39;00m):\n",
      "File \u001b[1;32mc:\\Users\\viraj\\AppData\\Local\\Programs\\Python\\Python39\\lib\\site-packages\\sklearn\\utils\\validation.py:1192\u001b[0m, in \u001b[0;36mcheck_X_y\u001b[1;34m(X, y, accept_sparse, accept_large_sparse, dtype, order, copy, force_all_finite, ensure_2d, allow_nd, multi_output, ensure_min_samples, ensure_min_features, y_numeric, estimator)\u001b[0m\n\u001b[0;32m   1187\u001b[0m         estimator_name \u001b[38;5;241m=\u001b[39m _check_estimator_name(estimator)\n\u001b[0;32m   1188\u001b[0m     \u001b[38;5;28;01mraise\u001b[39;00m \u001b[38;5;167;01mValueError\u001b[39;00m(\n\u001b[0;32m   1189\u001b[0m         \u001b[38;5;124mf\u001b[39m\u001b[38;5;124m\"\u001b[39m\u001b[38;5;132;01m{\u001b[39;00mestimator_name\u001b[38;5;132;01m}\u001b[39;00m\u001b[38;5;124m requires y to be passed, but the target y is None\u001b[39m\u001b[38;5;124m\"\u001b[39m\n\u001b[0;32m   1190\u001b[0m     )\n\u001b[1;32m-> 1192\u001b[0m X \u001b[38;5;241m=\u001b[39m \u001b[43mcheck_array\u001b[49m\u001b[43m(\u001b[49m\n\u001b[0;32m   1193\u001b[0m \u001b[43m    \u001b[49m\u001b[43mX\u001b[49m\u001b[43m,\u001b[49m\n\u001b[0;32m   1194\u001b[0m \u001b[43m    \u001b[49m\u001b[43maccept_sparse\u001b[49m\u001b[38;5;241;43m=\u001b[39;49m\u001b[43maccept_sparse\u001b[49m\u001b[43m,\u001b[49m\n\u001b[0;32m   1195\u001b[0m \u001b[43m    \u001b[49m\u001b[43maccept_large_sparse\u001b[49m\u001b[38;5;241;43m=\u001b[39;49m\u001b[43maccept_large_sparse\u001b[49m\u001b[43m,\u001b[49m\n\u001b[0;32m   1196\u001b[0m \u001b[43m    \u001b[49m\u001b[43mdtype\u001b[49m\u001b[38;5;241;43m=\u001b[39;49m\u001b[43mdtype\u001b[49m\u001b[43m,\u001b[49m\n\u001b[0;32m   1197\u001b[0m \u001b[43m    \u001b[49m\u001b[43morder\u001b[49m\u001b[38;5;241;43m=\u001b[39;49m\u001b[43morder\u001b[49m\u001b[43m,\u001b[49m\n\u001b[0;32m   1198\u001b[0m \u001b[43m    \u001b[49m\u001b[43mcopy\u001b[49m\u001b[38;5;241;43m=\u001b[39;49m\u001b[43mcopy\u001b[49m\u001b[43m,\u001b[49m\n\u001b[0;32m   1199\u001b[0m \u001b[43m    \u001b[49m\u001b[43mforce_all_finite\u001b[49m\u001b[38;5;241;43m=\u001b[39;49m\u001b[43mforce_all_finite\u001b[49m\u001b[43m,\u001b[49m\n\u001b[0;32m   1200\u001b[0m \u001b[43m    \u001b[49m\u001b[43mensure_2d\u001b[49m\u001b[38;5;241;43m=\u001b[39;49m\u001b[43mensure_2d\u001b[49m\u001b[43m,\u001b[49m\n\u001b[0;32m   1201\u001b[0m \u001b[43m    \u001b[49m\u001b[43mallow_nd\u001b[49m\u001b[38;5;241;43m=\u001b[39;49m\u001b[43mallow_nd\u001b[49m\u001b[43m,\u001b[49m\n\u001b[0;32m   1202\u001b[0m \u001b[43m    \u001b[49m\u001b[43mensure_min_samples\u001b[49m\u001b[38;5;241;43m=\u001b[39;49m\u001b[43mensure_min_samples\u001b[49m\u001b[43m,\u001b[49m\n\u001b[0;32m   1203\u001b[0m \u001b[43m    \u001b[49m\u001b[43mensure_min_features\u001b[49m\u001b[38;5;241;43m=\u001b[39;49m\u001b[43mensure_min_features\u001b[49m\u001b[43m,\u001b[49m\n\u001b[0;32m   1204\u001b[0m \u001b[43m    \u001b[49m\u001b[43mestimator\u001b[49m\u001b[38;5;241;43m=\u001b[39;49m\u001b[43mestimator\u001b[49m\u001b[43m,\u001b[49m\n\u001b[0;32m   1205\u001b[0m \u001b[43m    \u001b[49m\u001b[43minput_name\u001b[49m\u001b[38;5;241;43m=\u001b[39;49m\u001b[38;5;124;43m\"\u001b[39;49m\u001b[38;5;124;43mX\u001b[39;49m\u001b[38;5;124;43m\"\u001b[39;49m\u001b[43m,\u001b[49m\n\u001b[0;32m   1206\u001b[0m \u001b[43m\u001b[49m\u001b[43m)\u001b[49m\n\u001b[0;32m   1208\u001b[0m y \u001b[38;5;241m=\u001b[39m _check_y(y, multi_output\u001b[38;5;241m=\u001b[39mmulti_output, y_numeric\u001b[38;5;241m=\u001b[39my_numeric, estimator\u001b[38;5;241m=\u001b[39mestimator)\n\u001b[0;32m   1210\u001b[0m check_consistent_length(X, y)\n",
      "File \u001b[1;32mc:\\Users\\viraj\\AppData\\Local\\Programs\\Python\\Python39\\lib\\site-packages\\sklearn\\utils\\validation.py:833\u001b[0m, in \u001b[0;36mcheck_array\u001b[1;34m(array, accept_sparse, accept_large_sparse, dtype, order, copy, force_all_finite, ensure_2d, allow_nd, ensure_min_samples, ensure_min_features, estimator, input_name)\u001b[0m\n\u001b[0;32m    829\u001b[0m pandas_requires_conversion \u001b[38;5;241m=\u001b[39m \u001b[38;5;28many\u001b[39m(\n\u001b[0;32m    830\u001b[0m     _pandas_dtype_needs_early_conversion(i) \u001b[38;5;28;01mfor\u001b[39;00m i \u001b[38;5;129;01min\u001b[39;00m dtypes_orig\n\u001b[0;32m    831\u001b[0m )\n\u001b[0;32m    832\u001b[0m \u001b[38;5;28;01mif\u001b[39;00m \u001b[38;5;28mall\u001b[39m(\u001b[38;5;28misinstance\u001b[39m(dtype_iter, np\u001b[38;5;241m.\u001b[39mdtype) \u001b[38;5;28;01mfor\u001b[39;00m dtype_iter \u001b[38;5;129;01min\u001b[39;00m dtypes_orig):\n\u001b[1;32m--> 833\u001b[0m     dtype_orig \u001b[38;5;241m=\u001b[39m \u001b[43mnp\u001b[49m\u001b[38;5;241;43m.\u001b[39;49m\u001b[43mresult_type\u001b[49m\u001b[43m(\u001b[49m\u001b[38;5;241;43m*\u001b[39;49m\u001b[43mdtypes_orig\u001b[49m\u001b[43m)\u001b[49m\n\u001b[0;32m    834\u001b[0m \u001b[38;5;28;01melif\u001b[39;00m pandas_requires_conversion \u001b[38;5;129;01mand\u001b[39;00m \u001b[38;5;28many\u001b[39m(d \u001b[38;5;241m==\u001b[39m \u001b[38;5;28mobject\u001b[39m \u001b[38;5;28;01mfor\u001b[39;00m d \u001b[38;5;129;01min\u001b[39;00m dtypes_orig):\n\u001b[0;32m    835\u001b[0m     \u001b[38;5;66;03m# Force object if any of the dtypes is an object\u001b[39;00m\n\u001b[0;32m    836\u001b[0m     dtype_orig \u001b[38;5;241m=\u001b[39m \u001b[38;5;28mobject\u001b[39m\n",
      "\u001b[1;31mValueError\u001b[0m: at least one array or dtype is required"
     ]
    }
   ],
   "source": [
    "from sklearn.ensemble import GradientBoostingClassifier\n",
    "\n",
    "model = GradientBoostingClassifier(n_estimators=1000, random_state=0)\n",
    "model.fit(X_train, y_train_encoded)\n"
   ]
  },
  {
   "cell_type": "code",
   "execution_count": null,
   "id": "2ad87653",
   "metadata": {},
   "outputs": [],
   "source": []
  },
  {
   "cell_type": "code",
   "execution_count": null,
   "id": "a5c56161",
   "metadata": {},
   "outputs": [],
   "source": []
  }
 ],
 "metadata": {
  "kernelspec": {
   "display_name": "Python 3",
   "language": "python",
   "name": "python3"
  },
  "language_info": {
   "codemirror_mode": {
    "name": "ipython",
    "version": 3
   },
   "file_extension": ".py",
   "mimetype": "text/x-python",
   "name": "python",
   "nbconvert_exporter": "python",
   "pygments_lexer": "ipython3",
   "version": "3.9.13"
  }
 },
 "nbformat": 4,
 "nbformat_minor": 5
}
