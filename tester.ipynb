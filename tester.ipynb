{
 "cells": [
  {
   "cell_type": "code",
   "execution_count": 1,
   "id": "10b6d1d7",
   "metadata": {},
   "outputs": [
    {
     "name": "stdout",
     "output_type": "stream",
     "text": [
      "Number of triples in graph: 29226\n"
     ]
    }
   ],
   "source": [
    "from rdflib import Graph\n",
    "import pandas as pd\n",
    "\n",
    "rdf_file = \"data/aifbfixed_complete.n3\"\n",
    "graph = Graph()\n",
    "graph.parse(rdf_file, format='n3')\n",
    "print(\"Number of triples in graph:\", len(graph))"
   ]
  },
  {
   "cell_type": "code",
   "execution_count": 4,
   "id": "67119aa8",
   "metadata": {},
   "outputs": [
    {
     "name": "stdout",
     "output_type": "stream",
     "text": [
      "(rdflib.term.URIRef('http://www.aifb.uni-karlsruhe.de/Forschungsgruppen/viewForschungsgruppeOWL/id3instance'), rdflib.term.URIRef('http://swrc.ontoware.org/ontology#publishes'), rdflib.term.URIRef('http://www.aifb.uni-karlsruhe.de/Publikationen/viewPublikationOWL/id724instance'))\n",
      "(rdflib.term.URIRef('http://www.aifb.uni-karlsruhe.de/Publikationen/viewPublikationOWL/id28instance'), rdflib.term.URIRef('http://swrc.ontoware.org/ontology#title'), rdflib.term.Literal('On-To-Knowledge Methodology', datatype=rdflib.term.URIRef('http://www.w3.org/2001/XMLSchema#string')))\n",
      "(rdflib.term.URIRef('http://www.aifb.uni-karlsruhe.de/Publikationen/viewPublikationOWL/id739instance'), rdflib.term.URIRef('http://swrc.ontoware.org/ontology#abstract'), rdflib.term.Literal('Effektiver Zugriff auf Wissensinhalte benÃ¶tigt eine gemeinsame Sprache zur Beschreibung der Wissensinhalte,\\r\\nsowie Methoden und Werkzeuge, die in der Lage sind, diese Beschreibung zu nutzen. In der Forschungsgruppe\\r\\nWissensmanagement an der UniversitÃ¤t Karlsruhe wurde ein ganzheitlicher Ansatz fÃ¼r Wissensmanagementsysteme\\r\\nkonzipiert, der auf Ontologien, das sind eine Art formaler Begriffssysteme, beruhend, verschiedene\\r\\nMethoden zum intelligenten Ablegen und Zugreifen auf Wissen bereitstellt. Im Rahmen dieses Ansatzes wurde\\r\\ndiverse Techniken erforscht, in Werkzeuge umgesetzt und ihre Prinzipien an Wissensportalen aufgezeigt. In diesem Artikel beschreiben wir die erste Implementierung eines kommerziellen ontologiebasierten Wissensmanagementsystems.', datatype=rdflib.term.URIRef('http://www.w3.org/2001/XMLSchema#string')))\n",
      "(rdflib.term.URIRef('http://www.aifb.uni-karlsruhe.de/Personen/viewPersonOWL/id2058instance'), rdflib.term.URIRef('http://swrc.ontoware.org/ontology#publication'), rdflib.term.URIRef('http://www.aifb.uni-karlsruhe.de/Publikationen/viewPublikationOWL/id914instance'))\n",
      "(rdflib.term.URIRef('http://www.aifb.uni-karlsruhe.de/Personen/viewPersonOWL/id11instance'), rdflib.term.URIRef('http://swrc.ontoware.org/ontology#publication'), rdflib.term.URIRef('http://www.aifb.uni-karlsruhe.de/Publikationen/viewPublikationOWL/id1345instance'))\n",
      "(rdflib.term.URIRef('http://www.aifb.uni-karlsruhe.de/Publikationen/viewPublikationOWL/id849instance'), rdflib.term.URIRef('http://swrc.ontoware.org/ontology#journal'), rdflib.term.Literal('International Journal of Knowledge and Learning  (IJKL)', datatype=rdflib.term.URIRef('http://www.w3.org/2001/XMLSchema#string')))\n",
      "(rdflib.term.URIRef('http://www.aifb.uni-karlsruhe.de/Publikationen/viewExternerAutorOWL/id341instance'), rdflib.term.URIRef('http://swrc.ontoware.org/ontology#publication'), rdflib.term.URIRef('http://www.aifb.uni-karlsruhe.de/Publikationen/viewPublikationOWL/id543instance'))\n",
      "(rdflib.term.URIRef('http://www.aifb.uni-karlsruhe.de/Forschungsgebiete/viewForschungsgebietOWL/id110instance'), rdflib.term.URIRef('http://swrc.ontoware.org/ontology#name'), rdflib.term.Literal('Natural Language Processing', datatype=rdflib.term.URIRef('http://www.w3.org/2001/XMLSchema#string')))\n",
      "(rdflib.term.URIRef('http://www.aifb.uni-karlsruhe.de/Personen/viewPersonOWL/id55instance'), rdflib.term.URIRef('http://swrc.ontoware.org/ontology#publication'), rdflib.term.URIRef('http://www.aifb.uni-karlsruhe.de/Publikationen/viewPublikationOWL/id538instance'))\n",
      "(rdflib.term.URIRef('http://www.aifb.uni-karlsruhe.de/Publikationen/viewPublikationOWL/id1215instance'), rdflib.term.URIRef('http://www.w3.org/1999/02/22-rdf-syntax-ns#type'), rdflib.term.URIRef('http://swrc.ontoware.org/ontology#InProceedings'))\n"
     ]
    }
   ],
   "source": [
    "for i, triple in enumerate(graph):\n",
    "    if i < 10:\n",
    "        print(triple)"
   ]
  },
  {
   "cell_type": "code",
   "execution_count": 5,
   "id": "3a0c4777",
   "metadata": {},
   "outputs": [],
   "source": [
    "train_df = pd.read_csv(\"data/trainingSet.tsv\", sep='\\t', header=None, names=['person', 'id', 'label_affiliation'])\n",
    "test_df = pd.read_csv(\"data/testSet.tsv\", sep='\\t', header=None, names=['person', 'id', 'label_affiliation'])\n",
    "full_df = pd.read_csv(\"data/completeDataset.tsv\", sep='\\t', header=None, names=['person', 'id', 'label_affiliation'])"
   ]
  },
  {
   "cell_type": "code",
   "execution_count": 6,
   "id": "992199be",
   "metadata": {},
   "outputs": [
    {
     "data": {
      "text/html": [
       "<div>\n",
       "<style scoped>\n",
       "    .dataframe tbody tr th:only-of-type {\n",
       "        vertical-align: middle;\n",
       "    }\n",
       "\n",
       "    .dataframe tbody tr th {\n",
       "        vertical-align: top;\n",
       "    }\n",
       "\n",
       "    .dataframe thead th {\n",
       "        text-align: right;\n",
       "    }\n",
       "</style>\n",
       "<table border=\"1\" class=\"dataframe\">\n",
       "  <thead>\n",
       "    <tr style=\"text-align: right;\">\n",
       "      <th></th>\n",
       "      <th>person</th>\n",
       "      <th>id</th>\n",
       "      <th>label_affiliation</th>\n",
       "    </tr>\n",
       "  </thead>\n",
       "  <tbody>\n",
       "    <tr>\n",
       "      <th>0</th>\n",
       "      <td>id</td>\n",
       "      <td>person</td>\n",
       "      <td>label_affiliation</td>\n",
       "    </tr>\n",
       "    <tr>\n",
       "      <th>1</th>\n",
       "      <td>1</td>\n",
       "      <td>http://www.aifb.uni-karlsruhe.de/Personen/view...</td>\n",
       "      <td>http://www.aifb.uni-karlsruhe.de/Forschungsgru...</td>\n",
       "    </tr>\n",
       "    <tr>\n",
       "      <th>2</th>\n",
       "      <td>2</td>\n",
       "      <td>http://www.aifb.uni-karlsruhe.de/Personen/view...</td>\n",
       "      <td>http://www.aifb.uni-karlsruhe.de/Forschungsgru...</td>\n",
       "    </tr>\n",
       "    <tr>\n",
       "      <th>3</th>\n",
       "      <td>3</td>\n",
       "      <td>http://www.aifb.uni-karlsruhe.de/Personen/view...</td>\n",
       "      <td>http://www.aifb.uni-karlsruhe.de/Forschungsgru...</td>\n",
       "    </tr>\n",
       "    <tr>\n",
       "      <th>4</th>\n",
       "      <td>4</td>\n",
       "      <td>http://www.aifb.uni-karlsruhe.de/Personen/view...</td>\n",
       "      <td>http://www.aifb.uni-karlsruhe.de/Forschungsgru...</td>\n",
       "    </tr>\n",
       "    <tr>\n",
       "      <th>5</th>\n",
       "      <td>5</td>\n",
       "      <td>http://www.aifb.uni-karlsruhe.de/Personen/view...</td>\n",
       "      <td>http://www.aifb.uni-karlsruhe.de/Forschungsgru...</td>\n",
       "    </tr>\n",
       "    <tr>\n",
       "      <th>6</th>\n",
       "      <td>6</td>\n",
       "      <td>http://www.aifb.uni-karlsruhe.de/Personen/view...</td>\n",
       "      <td>http://www.aifb.uni-karlsruhe.de/Forschungsgru...</td>\n",
       "    </tr>\n",
       "    <tr>\n",
       "      <th>7</th>\n",
       "      <td>7</td>\n",
       "      <td>http://www.aifb.uni-karlsruhe.de/Personen/view...</td>\n",
       "      <td>http://www.aifb.uni-karlsruhe.de/Forschungsgru...</td>\n",
       "    </tr>\n",
       "    <tr>\n",
       "      <th>8</th>\n",
       "      <td>8</td>\n",
       "      <td>http://www.aifb.uni-karlsruhe.de/Personen/view...</td>\n",
       "      <td>http://www.aifb.uni-karlsruhe.de/Forschungsgru...</td>\n",
       "    </tr>\n",
       "    <tr>\n",
       "      <th>9</th>\n",
       "      <td>9</td>\n",
       "      <td>http://www.aifb.uni-karlsruhe.de/Personen/view...</td>\n",
       "      <td>http://www.aifb.uni-karlsruhe.de/Forschungsgru...</td>\n",
       "    </tr>\n",
       "  </tbody>\n",
       "</table>\n",
       "</div>"
      ],
      "text/plain": [
       "  person                                                 id  \\\n",
       "0     id                                             person   \n",
       "1      1  http://www.aifb.uni-karlsruhe.de/Personen/view...   \n",
       "2      2  http://www.aifb.uni-karlsruhe.de/Personen/view...   \n",
       "3      3  http://www.aifb.uni-karlsruhe.de/Personen/view...   \n",
       "4      4  http://www.aifb.uni-karlsruhe.de/Personen/view...   \n",
       "5      5  http://www.aifb.uni-karlsruhe.de/Personen/view...   \n",
       "6      6  http://www.aifb.uni-karlsruhe.de/Personen/view...   \n",
       "7      7  http://www.aifb.uni-karlsruhe.de/Personen/view...   \n",
       "8      8  http://www.aifb.uni-karlsruhe.de/Personen/view...   \n",
       "9      9  http://www.aifb.uni-karlsruhe.de/Personen/view...   \n",
       "\n",
       "                                   label_affiliation  \n",
       "0                                  label_affiliation  \n",
       "1  http://www.aifb.uni-karlsruhe.de/Forschungsgru...  \n",
       "2  http://www.aifb.uni-karlsruhe.de/Forschungsgru...  \n",
       "3  http://www.aifb.uni-karlsruhe.de/Forschungsgru...  \n",
       "4  http://www.aifb.uni-karlsruhe.de/Forschungsgru...  \n",
       "5  http://www.aifb.uni-karlsruhe.de/Forschungsgru...  \n",
       "6  http://www.aifb.uni-karlsruhe.de/Forschungsgru...  \n",
       "7  http://www.aifb.uni-karlsruhe.de/Forschungsgru...  \n",
       "8  http://www.aifb.uni-karlsruhe.de/Forschungsgru...  \n",
       "9  http://www.aifb.uni-karlsruhe.de/Forschungsgru...  "
      ]
     },
     "execution_count": 6,
     "metadata": {},
     "output_type": "execute_result"
    }
   ],
   "source": [
    "full_df.head(10)"
   ]
  },
  {
   "cell_type": "code",
   "execution_count": 8,
   "id": "885cf14e",
   "metadata": {},
   "outputs": [
    {
     "name": "stdout",
     "output_type": "stream",
     "text": [
      "Train shape: (141, 3)\n",
      "Test shape: (37, 3)\n",
      "Train label distribution:\n",
      "label_affiliation\n",
      "http://www.aifb.uni-karlsruhe.de/Forschungsgruppen/viewForschungsgruppeOWL/id1instance    0.411348\n",
      "http://www.aifb.uni-karlsruhe.de/Forschungsgruppen/viewForschungsgruppeOWL/id3instance    0.340426\n",
      "http://www.aifb.uni-karlsruhe.de/Forschungsgruppen/viewForschungsgruppeOWL/id2instance    0.156028\n",
      "http://www.aifb.uni-karlsruhe.de/Forschungsgruppen/viewForschungsgruppeOWL/id4instance    0.085106\n",
      "label_affiliation                                                                         0.007092\n",
      "Name: proportion, dtype: float64\n",
      "Test label distribution:\n",
      "label_affiliation\n",
      "http://www.aifb.uni-karlsruhe.de/Forschungsgruppen/viewForschungsgruppeOWL/id1instance    0.405405\n",
      "http://www.aifb.uni-karlsruhe.de/Forschungsgruppen/viewForschungsgruppeOWL/id3instance    0.324324\n",
      "http://www.aifb.uni-karlsruhe.de/Forschungsgruppen/viewForschungsgruppeOWL/id2instance    0.162162\n",
      "http://www.aifb.uni-karlsruhe.de/Forschungsgruppen/viewForschungsgruppeOWL/id4instance    0.081081\n",
      "label_affiliation                                                                         0.027027\n",
      "Name: proportion, dtype: float64\n"
     ]
    }
   ],
   "source": [
    "print(\"Train shape:\", train_df.shape)\n",
    "print(\"Test shape:\", test_df.shape)\n",
    "print(\"Train label distribution:\")\n",
    "print(train_df['label_affiliation'].value_counts(normalize=True))\n",
    "print(\"Test label distribution:\")\n",
    "print(test_df['label_affiliation'].value_counts(normalize=True))"
   ]
  },
  {
   "cell_type": "code",
   "execution_count": null,
   "id": "71f6bc1a",
   "metadata": {},
   "outputs": [
    {
     "name": "stdout",
     "output_type": "stream",
     "text": [
      "Feature matrix shape: (2829, 10450)\n"
     ]
    }
   ],
   "source": [
    "#RDf to entity feature table \n",
    "from collections import defaultdict\n",
    "\n",
    "entity_features = defaultdict(dict)\n",
    "\n",
    "for s, p, o in graph:\n",
    "    key = f\"{p}={o}\"\n",
    "    entity_features[str(s)][key] = 1\n",
    "\n",
    "features_df = pd.DataFrame.from_dict(entity_features, orient='index').fillna(0).astype(int)\n",
    "print(\"Feature matrix shape:\", features_df.shape)"
   ]
  },
  {
   "cell_type": "code",
   "execution_count": 10,
   "id": "0a27591d",
   "metadata": {},
   "outputs": [],
   "source": [
    "train_df = train_df[train_df['person'].isin(features_df.index)]\n",
    "test_df = test_df[test_df['person'].isin(features_df.index)]\n",
    "\n",
    "X_train = features_df.loc[train_df['person']]\n",
    "X_test = features_df.loc[test_df['person']]\n",
    "\n",
    "# Align y labels\n",
    "y_train = train_df.set_index('person').loc[X_train.index]['label_affiliation']\n",
    "y_test = test_df.set_index('person').loc[X_test.index]['label_affiliation']\n"
   ]
  },
  {
   "cell_type": "code",
   "execution_count": 11,
   "id": "959c59cb",
   "metadata": {},
   "outputs": [],
   "source": [
    "from sklearn.preprocessing import LabelEncoder\n",
    "\n",
    "le = LabelEncoder()\n",
    "y_train_enc = le.fit_transform(y_train)\n",
    "y_test_enc = le.transform(y_test)"
   ]
  },
  {
   "cell_type": "code",
   "execution_count": 12,
   "id": "43be432a",
   "metadata": {},
   "outputs": [
    {
     "name": "stdout",
     "output_type": "stream",
     "text": [
      "X_train index matches train_df 'person' index: True\n",
      "X_test index matches test_df 'person' index: True\n",
      "\n",
      "Unseen labels in test set: set()\n"
     ]
    }
   ],
   "source": [
    "# 7. Sanity Checks\n",
    "# =========================================\n",
    "print(\"X_train index matches train_df 'person' index:\", all(X_train.index == train_df['person']))\n",
    "print(\"X_test index matches test_df 'person' index:\", all(X_test.index == test_df['person']))\n",
    "print(\"\\nUnseen labels in test set:\", set(y_test) - set(y_train))"
   ]
  },
  {
   "cell_type": "code",
   "execution_count": 13,
   "id": "fd6b1cda",
   "metadata": {},
   "outputs": [
    {
     "name": "stdout",
     "output_type": "stream",
     "text": [
      "X_train shape: (140, 10450) , y_train length: 140\n",
      "X_test shape: (36, 10450) , y_test length: 36\n"
     ]
    }
   ],
   "source": [
    "# Print shapes\n",
    "print(\"X_train shape:\", X_train.shape, \", y_train length:\", len(y_train_enc))\n",
    "print(\"X_test shape:\", X_test.shape, \", y_test length:\", len(y_test_enc))"
   ]
  },
  {
   "cell_type": "code",
   "execution_count": 14,
   "id": "20942e29",
   "metadata": {},
   "outputs": [
    {
     "name": "stderr",
     "output_type": "stream",
     "text": [
      "c:\\Users\\viraj\\AppData\\Local\\Programs\\Python\\Python39\\lib\\site-packages\\numpy\\lib\\function_base.py:2897: RuntimeWarning: invalid value encountered in divide\n",
      "  c /= stddev[:, None]\n",
      "c:\\Users\\viraj\\AppData\\Local\\Programs\\Python\\Python39\\lib\\site-packages\\numpy\\lib\\function_base.py:2898: RuntimeWarning: invalid value encountered in divide\n",
      "  c /= stddev[None, :]\n"
     ]
    },
    {
     "name": "stdout",
     "output_type": "stream",
     "text": [
      "Top correlated features with label:\n",
      "http://swrc.ontoware.org/ontology#affiliation=http://www.aifb.uni-karlsruhe.de/Forschungsgruppen/viewForschungsgruppeOWL/id1instance    0.886108\n",
      "http://swrc.ontoware.org/ontology#affiliation=http://www.aifb.uni-karlsruhe.de/Forschungsgruppen/viewForschungsgruppeOWL/id3instance    0.622667\n",
      "http://swrc.ontoware.org/ontology#affiliation=http://www.aifb.uni-karlsruhe.de/Forschungsgruppen/viewForschungsgruppeOWL/id4instance    0.557219\n",
      "dtype: float64\n"
     ]
    }
   ],
   "source": [
    " #8. Check for Feature Leakage (correlation)\n",
    "# =========================================\n",
    "correlations = X_train.corrwith(pd.Series(y_train_enc, index=X_train.index)).abs()\n",
    "leak_features = correlations[correlations > 0.5].sort_values(ascending=False)\n",
    "print(\"Top correlated features with label:\")\n",
    "print(leak_features.head(10))"
   ]
  },
  {
   "cell_type": "code",
   "execution_count": 16,
   "id": "0aa41dc1",
   "metadata": {},
   "outputs": [
    {
     "name": "stdout",
     "output_type": "stream",
     "text": [
      "Features leaking label info: ['http://swrc.ontoware.org/ontology#affiliation=http://www.aifb.uni-karlsruhe.de/Forschungsgruppen/viewForschungsgruppeOWL/id1instance', 'http://swrc.ontoware.org/ontology#affiliation=http://www.aifb.uni-karlsruhe.de/Forschungsgruppen/viewForschungsgruppeOWL/id3instance', 'http://swrc.ontoware.org/ontology#affiliation=http://www.aifb.uni-karlsruhe.de/Forschungsgruppen/viewForschungsgruppeOWL/id4instance', 'http://swrc.ontoware.org/ontology#affiliation=http://www.aifb.uni-karlsruhe.de/Forschungsgruppen/viewForschungsgruppeOWL/id2instance']\n",
      "Original feature count: 10450, after removal: 10446\n"
     ]
    }
   ],
   "source": [
    "leaky_cols = [col for col in correlations.index if 'affiliation=' in col and any(lbl in col for lbl in y_train.unique())]\n",
    "X_train_filtered = X_train.drop(columns=leaky_cols)\n",
    "X_test_filtered = X_test.drop(columns=leaky_cols)\n",
    "\n",
    "print(f\"Features leaking label info: {leaky_cols}\")\n",
    "print(f\"Original feature count: {X_train.shape[1]}, after removal: {X_train_filtered.shape[1]}\")"
   ]
  },
  {
   "cell_type": "code",
   "execution_count": 17,
   "id": "6e792b99",
   "metadata": {},
   "outputs": [],
   "source": [
    "from sklearn.ensemble import RandomForestClassifier\n",
    "from sklearn.metrics import classification_report, accuracy_score\n",
    "\n",
    "clf = RandomForestClassifier(random_state=42)\n",
    "clf.fit(X_train_filtered, y_train_enc)\n",
    "y_pred = clf.predict(X_test_filtered)"
   ]
  },
  {
   "cell_type": "code",
   "execution_count": 18,
   "id": "e85653c9",
   "metadata": {},
   "outputs": [
    {
     "name": "stdout",
     "output_type": "stream",
     "text": [
      "Test Accuracy (filtered features): 0.7222\n",
      "\n",
      "Classification Report (filtered features):\n",
      "                                                                                        precision    recall  f1-score   support\n",
      "\n",
      "http://www.aifb.uni-karlsruhe.de/Forschungsgruppen/viewForschungsgruppeOWL/id1instance       0.65      1.00      0.79        15\n",
      "http://www.aifb.uni-karlsruhe.de/Forschungsgruppen/viewForschungsgruppeOWL/id2instance       1.00      0.17      0.29         6\n",
      "http://www.aifb.uni-karlsruhe.de/Forschungsgruppen/viewForschungsgruppeOWL/id3instance       0.82      0.75      0.78        12\n",
      "http://www.aifb.uni-karlsruhe.de/Forschungsgruppen/viewForschungsgruppeOWL/id4instance       1.00      0.33      0.50         3\n",
      "\n",
      "                                                                              accuracy                           0.72        36\n",
      "                                                                             macro avg       0.87      0.56      0.59        36\n",
      "                                                                          weighted avg       0.79      0.72      0.68        36\n",
      "\n"
     ]
    }
   ],
   "source": [
    "# 10. Evaluate Model\n",
    "# =========================================\n",
    "acc = accuracy_score(y_test_enc, y_pred)\n",
    "print(f\"Test Accuracy (filtered features): {acc:.4f}\\n\")\n",
    "print(\"Classification Report (filtered features):\")\n",
    "print(classification_report(y_test_enc, y_pred, target_names=le.classes_, zero_division=0))\n"
   ]
  },
  {
   "cell_type": "code",
   "execution_count": null,
   "id": "68d67558",
   "metadata": {},
   "outputs": [],
   "source": []
  },
  {
   "cell_type": "code",
   "execution_count": null,
   "id": "426c7e54",
   "metadata": {},
   "outputs": [],
   "source": []
  },
  {
   "cell_type": "code",
   "execution_count": null,
   "id": "09c7998d",
   "metadata": {},
   "outputs": [],
   "source": []
  }
 ],
 "metadata": {
  "kernelspec": {
   "display_name": "Python 3",
   "language": "python",
   "name": "python3"
  },
  "language_info": {
   "codemirror_mode": {
    "name": "ipython",
    "version": 3
   },
   "file_extension": ".py",
   "mimetype": "text/x-python",
   "name": "python",
   "nbconvert_exporter": "python",
   "pygments_lexer": "ipython3",
   "version": "3.9.13"
  }
 },
 "nbformat": 4,
 "nbformat_minor": 5
}
